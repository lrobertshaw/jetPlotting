{
 "cells": [
  {
   "cell_type": "markdown",
   "id": "0a06253c-e666-417b-9572-f4adb8d6b02d",
   "metadata": {
    "tags": []
   },
   "source": [
    "# 0. Imports and settings"
   ]
  },
  {
   "cell_type": "code",
   "execution_count": 1,
   "id": "f460fd46-e696-4b2c-9451-933a39e6103f",
   "metadata": {},
   "outputs": [
    {
     "name": "stdout",
     "output_type": "stream",
     "text": [
      "Loading libraries\n",
      "Libraries loaded\n",
      "CMS MPL style set\n"
     ]
    }
   ],
   "source": [
    "# Load libraries\n",
    "print(\"Loading libraries\")\n",
    "import uproot\n",
    "import awkward as ak\n",
    "import numpy as np\n",
    "import matplotlib.pyplot as plt\n",
    "import pandas as pd\n",
    "from scipy.spatial import KDTree\n",
    "from scipy import stats\n",
    "import mplhep\n",
    "from collections import namedtuple\n",
    "print(\"Libraries loaded\")\n",
    "\n",
    "# Set mpl settings\n",
    "plt.style.use(mplhep.style.CMS)\n",
    "print(\"CMS MPL style set\")"
   ]
  },
  {
   "cell_type": "markdown",
   "id": "d0352437",
   "metadata": {},
   "source": [
    "# 1. Global classes and functions"
   ]
  },
  {
   "cell_type": "code",
   "execution_count": 2,
   "id": "52631801",
   "metadata": {},
   "outputs": [],
   "source": [
    "def readData(path, printBranches=False):\n",
    "    data = uproot.open(path)['Events']\n",
    "    \n",
    "    if printBranches:\n",
    "        for branch in data:\n",
    "            print(branch)\n",
    "        return data\n",
    "    else:\n",
    "        return data"
   ]
  },
  {
   "cell_type": "code",
   "execution_count": 3,
   "id": "9760b19b",
   "metadata": {},
   "outputs": [],
   "source": [
    "class Candidates:\n",
    "\n",
    "    def __init__(self, data):\n",
    "        puppi_pt = data[\"l1tLayer2DeregionizerCands_pt\"].array()\n",
    "        puppi_pt_sort = ak.argsort(puppi_pt)\n",
    "        self.pt = puppi_pt[puppi_pt_sort]\n",
    "        self.eta = data[\"l1tLayer2DeregionizerCands_eta\"].array()\n",
    "        self.phi = data[\"l1tLayer2DeregionizerCands_phi\"].array()"
   ]
  },
  {
   "cell_type": "code",
   "execution_count": 4,
   "id": "93a93c76",
   "metadata": {},
   "outputs": [],
   "source": [
    "class Jet:\n",
    "\n",
    "    class Seeds:\n",
    "        def __init__(self, data, branch):\n",
    "            self.pt = data[branch+\"Jets_dau0_pt\"].array()\n",
    "            self.eta = data[branch+\"Jets_dau0_eta\"].array()\n",
    "            self.phi = data[branch+\"Jets_dau0_phi\"].array()\n",
    "\n",
    "    def __init__(self, data, branch, colour, marker):\n",
    "        self.name = branch\n",
    "        self.colour = colour\n",
    "        self.marker = marker\n",
    "        \n",
    "        self.pt = data[branch+\"Jets_pt\"].array()\n",
    "        self.eta = data[branch+\"Jets_eta\"].array()\n",
    "        self.phi = data[branch+\"Jets_phi\"].array()\n",
    "\n",
    "        self.seeds = self.Seeds(data=data, branch=branch)\n",
    "\n",
    "    def changeColour(self, newColour):\n",
    "        self.colour = newColour\n",
    "    def changeMarker(self, newMarker):\n",
    "        self.marker = newMarker"
   ]
  },
  {
   "cell_type": "code",
   "execution_count": 5,
   "id": "31e25e94",
   "metadata": {},
   "outputs": [],
   "source": [
    "def jetConstructor(data, jetParams):\n",
    "    jets = []\n",
    "    for jet in jetParams:\n",
    "        print(\"Loading {}\".format(jet))\n",
    "        jets.append(Jet(data, jet, *jetParams[jet]))\n",
    "    \n",
    "    return jets"
   ]
  },
  {
   "cell_type": "markdown",
   "id": "fbecb4b6",
   "metadata": {
    "tags": []
   },
   "source": [
    "# 2. Plotting functions"
   ]
  },
  {
   "cell_type": "code",
   "execution_count": 36,
   "id": "c4627375",
   "metadata": {},
   "outputs": [],
   "source": [
    "def jetPlotter(Ev, jets, jetCap, r=0.4, jetCircle=False):\n",
    "    fig, ax = plt.subplots(figsize=(12, 12))\n",
    "    ax.scatter(cands.eta[Ev], cands.phi[Ev], c=np.log(cands.pt[Ev]), cmap=\"Greys\", label=\"PUPPI Candidates\")    # Plot PUPPI candidates\n",
    "    \n",
    "    for jetType in jets:    # Iterate over the different types of jets\n",
    "        eta, phi, pt = jetType.eta[Ev][:jetCap], jetType.phi[Ev][:jetCap], jetType.pt[Ev][:jetCap]\n",
    "        seed_eta, seed_phi, seed_pt = jetType.seeds.eta[Ev], jetType.seeds.phi[Ev], jetType.seeds.pt[Ev]\n",
    "        name, mark, col = jetType.name, jetType.marker, jetType.colour\n",
    "        \n",
    "        ax.scatter(eta, phi, s=30*np.log(pt), label=name, marker=mark, edgecolors=col, facecolor='none')    # Plot the jets up to the jet cap\n",
    "        for i, _ in enumerate(pt):    # Iterate over the jets\n",
    "            if jetCircle:\n",
    "                ax.add_patch(plt.Circle((eta[i], phi[i]), r, edgecolor=jetType.colour, facecolor='none', linewidth=1, linestyle=\"--\"))    # Add circle around given jet to the current axis\n",
    "                if phi[i] + r > np.pi:\n",
    "                    ax.add_patch(plt.Circle((eta[i], -2*np.pi+phi[i]), r, edgecolor=col, facecolor='none', linewidth=1, linestyle=\"--\"))\n",
    "                if phi[i] - r < -np.pi:\n",
    "                    ax.add_patch(plt.Circle((eta[i], 2*np.pi+phi[i]), r, edgecolor=col, facecolor='none', linewidth=1, linestyle=\"--\"))\n",
    "    \n",
    "            else:    # Places the circle around the seed\n",
    "                ax.add_patch(plt.Circle((seed_eta[i], seed_phi[i]), r, edgecolor=col, facecolor='none', linewidth=1, linestyle=\"--\" ))    # Add circle around given jet to the current axis\n",
    "                \"\"\" Phi wrapping \"\"\"\n",
    "                if seed_phi[i] + r > np.pi:\n",
    "                    ax.add_patch(plt.Circle((seed_eta[i], -2*np.pi+seed_phi[i]), r, edgecolor=col, facecolor='none', linewidth=1, linestyle=\"--\"))\n",
    "                if seed_phi[i] - r < -np.pi:\n",
    "                    ax.add_patch(plt.Circle((seed_eta[i], 2*np.pi+seed_phi[i]), r, edgecolor=col, facecolor='none', linewidth=1, linestyle=\"--\"))\n",
    "    \n",
    "    \n",
    "    ax.set_xlabel('η')    # Set x and y labels\n",
    "    ax.set_ylabel('ϕ')    #\n",
    "    ax.set_ylim((-np.pi, np.pi))\n",
    "    ax.set_xlim((-5, 5))\n",
    "    ax.set_aspect('equal', 'box')\n",
    "    ax.set_title(\"Level 1 jets. Event = {}\".format(Ev))\n",
    "    #mplhep.cms.label(label=\"Preliminary. Jet classification by three different algorithms. Event = {}\".format(Ev), data=True, rlabel='14 TeV, 200 PU', fontsize=10)\n",
    "    ax.legend()\n",
    "    return ax"
   ]
  },
  {
   "cell_type": "markdown",
   "id": "4d5a6bd9",
   "metadata": {},
   "source": [
    "# Wide cone Jets"
   ]
  },
  {
   "cell_type": "code",
   "execution_count": 8,
   "id": "7e23ee9e",
   "metadata": {
    "scrolled": true,
    "tags": []
   },
   "outputs": [],
   "source": [
    "ntuple = \"~/cernbox/wideCone/wideConeSig.root\"\n",
    "sig = readData(ntuple, printBranches=False)"
   ]
  },
  {
   "cell_type": "code",
   "execution_count": 9,
   "id": "dfa90a7f",
   "metadata": {},
   "outputs": [],
   "source": [
    "cands = Candidates(data=sig)"
   ]
  },
  {
   "cell_type": "code",
   "execution_count": 10,
   "id": "65bc4df9",
   "metadata": {},
   "outputs": [
    {
     "name": "stdout",
     "output_type": "stream",
     "text": [
      "Loading wideHSC\n",
      "Loading scPuppi\n"
     ]
    }
   ],
   "source": [
    "jetParams = {\n",
    "    \"wideHSC\" : (\"red\", \"^\"),\n",
    "    \"scPuppi\" : (\"blue\", \"X\")\n",
    "}\n",
    "\n",
    "wideHSC, sc = jetConstructor(data=sig, jetParams=jetParams)"
   ]
  },
  {
   "cell_type": "code",
   "execution_count": 37,
   "id": "36688263",
   "metadata": {},
   "outputs": [
    {
     "data": {
      "text/plain": [
       "<AxesSubplot:title={'center':'Level 1 jets. Event = 1'}, xlabel='η', ylabel='ϕ'>"
      ]
     },
     "execution_count": 37,
     "metadata": {},
     "output_type": "execute_result"
    },
    {
     "data": {
      "image/png": "[encoded data removed]",
      "text/plain": [
       "<Figure size 864x864 with 1 Axes>"
      ]
     },
     "metadata": {
      "needs_background": "light"
     },
     "output_type": "display_data"
    }
   ],
   "source": [
    "jetPlotter(Ev=1, jets=[wideHSC, sc], jetCap=50, r=0.8, jetCircle=False)"
   ]
  },
  {
   "cell_type": "markdown",
   "id": "7712f674",
   "metadata": {},
   "source": [
    "# Regular Jets"
   ]
  },
  {
   "cell_type": "code",
   "execution_count": null,
   "id": "36cc23a4-58fb-4c2a-9d71-49ab4a4556a3",
   "metadata": {},
   "outputs": [],
   "source": [
    "path = \"~/cernbox/outputFiles/seedSize/TTbar/TTbarTrimmed.root\"\n",
    "data = uproot.open(path)['Events']"
   ]
  },
  {
   "cell_type": "markdown",
   "id": "502d7389-73ac-4614-911a-270e906d30ac",
   "metadata": {
    "jp-MarkdownHeadingCollapsed": true,
    "tags": []
   },
   "source": [
    "## Histogrammer illustrator"
   ]
  },
  {
   "cell_type": "code",
   "execution_count": null,
   "id": "7eb44625-ad89-464a-a979-7ae41eaadbc8",
   "metadata": {},
   "outputs": [],
   "source": [
    "ev=7\n",
    "cap=5\n",
    "fig, ax = plt.subplots(figsize=(12, 12))\n",
    "#fig, ax = plt.subplots()\n",
    "ax.hist2d(\n",
    "    cands[\"eta\"][ev], cands[\"phi\"][ev],\n",
    "    weights=np.log(cands[\"pt\"][ev]),\n",
    "    bins=50,\n",
    "    cmap=\"Reds\"\n",
    "#    range=[ (-5, 5), (-np.pi, np.pi) ]\n",
    ")\n",
    "\n",
    "def Square(ax):\n",
    "    ax.add_patch(plt.Rectangle((0,0), 10, 10))\n",
    "    \n",
    "ax.add_patch(plt.Rectangle((-0.5, -2.1), 0.25, 0.25, edgecolor=\"r\", facecolor='none', linewidth=1, linestyle=\"-\"))\n",
    "ax.add_patch(plt.Rectangle((-0.5, -2.35), 0.25, 0.25, edgecolor=\"r\", facecolor='none', linewidth=1, linestyle=\"-\"))\n",
    "ax.add_patch(plt.Rectangle((-0.5, -2.6), 0.25, 0.25, edgecolor=\"r\", facecolor='none', linewidth=1, linestyle=\"-\"))\n",
    "\n",
    "ax.add_patch(plt.Rectangle( (-0.75, -2.1), 0.25, 0.25, edgecolor=\"r\", facecolor='none', linewidth=1, linestyle=\"-\"))\n",
    "ax.add_patch(plt.Rectangle( (-0.75, -2.35), 0.25, 0.25, edgecolor=\"r\", facecolor='none', linewidth=1, linestyle=\"-\"))\n",
    "ax.add_patch(plt.Rectangle( (-0.75, -2.6), 0.25, 0.25, edgecolor=\"r\", facecolor='none', linewidth=1, linestyle=\"-\"))\n",
    "\n",
    "ax.add_patch(plt.Rectangle( (-1.0, -2.10), 0.25, 0.25, edgecolor=\"r\", facecolor='none', linewidth=1, linestyle=\"-\"))\n",
    "ax.add_patch(plt.Rectangle( (-1.0, -2.35), 0.25, 0.25, edgecolor=\"r\", facecolor='none', linewidth=1, linestyle=\"-\"))\n",
    "ax.add_patch(plt.Rectangle( (-1.0, -2.6), 0.25, 0.25, edgecolor=\"r\", facecolor='none', linewidth=1, linestyle=\"-\"))\n",
    "    \n",
    "#ax.set_title(\"Phase 1 Histogrammer\")\n",
    "mplhep.cms.label(label=\"Phase 1 histogrammer\".format(), data=True, rlabel='14 TeV, 200 PU', fontsize=10)\n",
    "ax.set_xlabel(\"η\\eta\"); ax.set_ylabel(\"ϕ\\phi\")\n",
    "\n",
    "ax.scatter(gen[\"eta\"][ev][:cap], gen[\"phi\"][ev][:cap], s=30*np.log(gen[\"pt\"][ev][:cap]), marker=\"X\", edgecolors=\"black\", facecolor='none', label=\"Generator jets\")\n",
    "ax.set_xlabel('η\\eta')    # Set x and y labels\n",
    "ax.set_ylabel('ϕ\\phi')    #\n",
    "ax.set_ylim((-np.pi, np.pi))\n",
    "ax.set_xlim((-5, 5))\n",
    "ax.set_aspect('equal', 'box')\n",
    "ax.legend()\n",
    "plt.show()"
   ]
  },
  {
   "cell_type": "markdown",
   "id": "60a672ce-4ea3-4faa-97c7-ffc7fc2d4a5d",
   "metadata": {
    "jp-MarkdownHeadingCollapsed": true,
    "tags": []
   },
   "source": [
    "## Cutting jets on pT"
   ]
  },
  {
   "cell_type": "code",
   "execution_count": null,
   "id": "70e7b74b-7137-4b59-871e-b05e1112e87e",
   "metadata": {},
   "outputs": [],
   "source": [
    "def ptCutter(jetDict, cut=25):\n",
    "    filtArray = jetDict[\"pt\"][:] > cut\n",
    "    jetDict[\"pt\"] = jetDict[\"pt\"][:][filtArray]\n",
    "    jetDict[\"eta\"] = jetDict[\"eta\"][:][filtArray]\n",
    "    jetDict[\"phi\"] = jetDict[\"phi\"][:][filtArray]\n",
    "    return jetDict"
   ]
  },
  {
   "cell_type": "code",
   "execution_count": null,
   "id": "68999651-0d03-4a23-b76c-c6e1866c3db9",
   "metadata": {},
   "outputs": [],
   "source": [
    "sc_cut = ptCutter(sc)\n",
    "hsc_cut = ptCutter(hsc)\n",
    "hist_cut = ptCutter(hist)"
   ]
  },
  {
   "cell_type": "markdown",
   "id": "b820b1ed-0bac-421e-9597-1a31bd62b286",
   "metadata": {},
   "source": [
    "## Plotting the jets"
   ]
  },
  {
   "cell_type": "code",
   "execution_count": null,
   "id": "3b3b08c6-b4e0-4daf-8a00-56ed4391bd0e",
   "metadata": {},
   "outputs": [],
   "source": [
    "plotter([one, gen], jetCap=8, Ev=1000, jetCircle=True)"
   ]
  },
  {
   "cell_type": "markdown",
   "id": "865f16b7-87a7-4900-b5ad-9a20baecbfb0",
   "metadata": {},
   "source": [
    "## Generating data"
   ]
  },
  {
   "cell_type": "code",
   "execution_count": null,
   "id": "5e95e463-0b7b-4c23-a9c4-f2c1f6cd3a99",
   "metadata": {},
   "outputs": [],
   "source": [
    "def seedAxisDiff(jetType, allEvs=True, distThresh=5):\n",
    "\n",
    "    jetTypeNEW = jetType\n",
    "    anoms = []\n",
    "    nEvents = len(jetTypeNEW[\"pt\"]) if allEvs == True else allEvs\n",
    "    for ev in range(nEvents):\n",
    "        jetEta = jetTypeNEW[\"eta\"][ev]\n",
    "        seedEta = jetTypeNEW[\"seeds\"][\"eta\"][ev]\n",
    "\n",
    "        jetPhi = jetTypeNEW[\"phi\"][ev]\n",
    "        seedPhi = jetTypeNEW[\"seeds\"][\"phi\"][ev]\n",
    "        \n",
    "        distances = ((jetEta - seedEta)**2 + (jetPhi - seedPhi)**2)**0.5\n",
    "        # distancesTruthTable = distances > distThresh\n",
    "        # passedJetsIdx = [idx for idx, logic in enumerate(distancesTruthTable) if logic]\n",
    "        # passedDistances = distances[distancesTruthTable]\n",
    "        \n",
    "        # for dist in passedJetsIdx:\n",
    "        anoms.append(distances > distThresh)\n",
    "        #anoms = np.append(anoms, [distances > distThresh], axis=0)\n",
    "            #jetType[\"seeds\"][\"anom\"].append(distances > distThresh)\n",
    "\n",
    "    jetTypeNEW[\"seeds\"][\"anom\"] = anoms\n",
    "    \n",
    "    return jetTypeNEW"
   ]
  },
  {
   "cell_type": "code",
   "execution_count": null,
   "id": "b4ef4f8a-2103-4c1b-b610-c8eee95fba0b",
   "metadata": {
    "scrolled": true,
    "tags": []
   },
   "outputs": [],
   "source": [
    "hsc"
   ]
  },
  {
   "cell_type": "code",
   "execution_count": null,
   "id": "bc9755e1-ec92-4fcf-a0a8-ec2059ef20e4",
   "metadata": {},
   "outputs": [],
   "source": [
    "hsc2 = seedAxisDiff(hsc, allEvs = 100, distThresh=0.2)"
   ]
  },
  {
   "cell_type": "code",
   "execution_count": null,
   "id": "fab28d82-f5f4-47bf-be5a-c33a7945a51f",
   "metadata": {
    "scrolled": true,
    "tags": []
   },
   "outputs": [],
   "source": [
    "hsc2[\"seeds\"][\"anom\"]"
   ]
  },
  {
   "cell_type": "code",
   "execution_count": null,
   "id": "13690a0e-80f0-4e84-8066-fbd5d612806f",
   "metadata": {},
   "outputs": [],
   "source": [
    "plotter([gen, hsc, nine], Ev=1034, jetCap=8, jetCircle=False)"
   ]
  },
  {
   "cell_type": "code",
   "execution_count": null,
   "id": "9d21ffef-0aa1-4d83-93c3-abbdfc48f913",
   "metadata": {},
   "outputs": [],
   "source": [
    "def pairer(gen, jet, ev, r=0.4):\n",
    "    \"\"\"\n",
    "    - Get a KDTree containing every sc jet\n",
    "    - In a loop over every gen jet, query the tree with the gen jet\n",
    "    - This will return the nearest sc jet to the gen jet\n",
    "    \"\"\"\n",
    "\n",
    "    res = {\n",
    "        \"genXY\"     : [],\n",
    "        \"jetXY\"     : [],\n",
    "        \"seedXY\"    : [],\n",
    "        \"dist\"      : [],\n",
    "        \"eta_dist\"  : [],\n",
    "        \"phi_dist\"  : [],\n",
    "        \"pt\"        : [],\n",
    "        \"unpaired\"  : 0,\n",
    "        \"totalJets\" : 0\n",
    "    }\n",
    "    \n",
    "    jetXY, jetPt = list( zip(jet[\"seeds\"][\"eta\"][ev], jet[\"seeds\"][\"phi\"][ev]) ), jet[\"pt\"][ev]\n",
    "    genXY, genPt = list( zip(gen[\"eta\"][ev], gen[\"phi\"][ev]) ), gen[\"pt\"][ev]\n",
    "    if len(jetXY) == 0:\n",
    "        res[\"unpaired\"] = len(genPt)\n",
    "        res[\"genXY\"] = genXY\n",
    "        return res\n",
    "    \n",
    "    jetKDT = KDTree(jetXY)\n",
    "    for idx, genJet in enumerate(genXY):\n",
    "        res[\"totalJets\"] += 1\n",
    "        dist, order = jetKDT.query(genJet)\n",
    "        if dist < r:\n",
    "            res[\"genXY\"].append(genJet)\n",
    "            res[\"jetXY\"].append(jetXY[order])\n",
    "            res[\"dist\"].append(dist)\n",
    "            res[\"pt\"].append((genPt[idx] - jetPt[order]) / genPt[idx])\n",
    "            res[\"eta_dist\"].append(genJet[0] - jetXY[order][0])\n",
    "            res[\"phi_dist\"].append(genJet[1] - jetXY[order][1])\n",
    "        else:\n",
    "            res[\"unpaired\"] += 1\n",
    "\n",
    "    return res"
   ]
  },
  {
   "cell_type": "code",
   "execution_count": null,
   "id": "6f384138-75a6-4e2d-9bef-b3f80c9d6e10",
   "metadata": {},
   "outputs": [],
   "source": [
    "def datCalc(jetAlgos, quant, gen=gen, events=len(gen[\"pt\"])):\n",
    "    assert quant in [\"dist\", \"pt\", \"unpaired\", \"totalJets\", \"eta_dist\", \"phi_dist\"]\n",
    "    \n",
    "    if quant == \"unpaired\" or quant == \"totalJets\":\n",
    "        dic = {algo[\"name\"]:0 for algo in jetAlgos}\n",
    "    else:\n",
    "        dic = {algo[\"name\"]:[] for algo in jetAlgos}\n",
    "    \n",
    "    for algo in jetAlgos:\n",
    "        for event in range(events):\n",
    "            dat = pairer(gen=gen, jet=algo, ev=event)\n",
    "            dic[algo[\"name\"]] += dat[quant]\n",
    "\n",
    "    return dic"
   ]
  },
  {
   "cell_type": "code",
   "execution_count": null,
   "id": "16716583-92d0-4458-8cdc-9125c7087ed2",
   "metadata": {},
   "outputs": [],
   "source": [
    "pts = datCalc([hsc, three, five, seven, nine], quant=\"pt\", events=10000)"
   ]
  },
  {
   "cell_type": "code",
   "execution_count": null,
   "id": "93b2ddc3-265b-46a1-aa1a-a3889c359c76",
   "metadata": {},
   "outputs": [],
   "source": [
    "histPlotter(pts)"
   ]
  },
  {
   "cell_type": "code",
   "execution_count": null,
   "id": "86300fc0-b050-4033-aee5-0af9e39356d3",
   "metadata": {
    "scrolled": true,
    "tags": []
   },
   "outputs": [],
   "source": [
    "dists = datCalc([hsc, three, five, seven, nine], quant=\"dist\", events=10000)"
   ]
  },
  {
   "cell_type": "code",
   "execution_count": null,
   "id": "affe1270-5c42-4b99-9342-05aebc488f9a",
   "metadata": {
    "scrolled": true,
    "tags": []
   },
   "outputs": [],
   "source": [
    "dists"
   ]
  },
  {
   "cell_type": "code",
   "execution_count": null,
   "id": "9e582530-15fb-47c2-a678-593789cb893b",
   "metadata": {},
   "outputs": [],
   "source": [
    "for i in dists:\n",
    "    print(i)"
   ]
  },
  {
   "cell_type": "code",
   "execution_count": null,
   "id": "ed938c2b-0379-407b-ac97-a32ec7d34dce",
   "metadata": {},
   "outputs": [],
   "source": [
    "def histPlotter(var):\n",
    "\n",
    "    binning=np.linspace(-0.4, 0.4, 100)\n",
    "    for i in var:\n",
    "        plt.hist(\n",
    "            var[i],\n",
    "            bins=binning,\n",
    "            histtype=\"step\",\n",
    "            label=i,\n",
    "            density=True\n",
    "        )\n",
    "    plt.legend()\n",
    "    plt.xlabel(\"$\\phi$\")\n",
    "    plt.title(\"$\\phi$ seed resolution for different seed sizes\")\n",
    "    plt.grid()\n",
    "    plt.show()"
   ]
  },
  {
   "cell_type": "code",
   "execution_count": null,
   "id": "fd12f1b0-6122-4783-9a87-aab0bf3fdfaf",
   "metadata": {},
   "outputs": [],
   "source": [
    "eta_dist_dat = datCalc([hsc, three, five, seven, nine], quant=\"eta_dist\", events=10000)"
   ]
  },
  {
   "cell_type": "code",
   "execution_count": null,
   "id": "2e286b9f-6bc9-470b-9955-1bb55951ee24",
   "metadata": {},
   "outputs": [],
   "source": [
    "histPlotter(eta_dist_dat)"
   ]
  },
  {
   "cell_type": "code",
   "execution_count": null,
   "id": "8e843ec2-b26f-44e6-a589-720844b22159",
   "metadata": {},
   "outputs": [],
   "source": [
    "phi_dist_dat = datCalc([hsc, three, five, seven, nine], quant=\"phi_dist\", events=10000)"
   ]
  },
  {
   "cell_type": "code",
   "execution_count": null,
   "id": "cc06f01d-bdf4-4f3b-9b59-143d5a9b3a7e",
   "metadata": {},
   "outputs": [],
   "source": [
    "histPlotter(phi_dist_dat)"
   ]
  },
  {
   "cell_type": "code",
   "execution_count": null,
   "id": "31ab74eb-1459-46a7-9f50-187fedf043c5",
   "metadata": {},
   "outputs": [],
   "source": [
    "unpairedNums = datCalc([hsc, three, five, seven, nine], quant=\"unpaired\", events=10000)"
   ]
  },
  {
   "cell_type": "code",
   "execution_count": null,
   "id": "360acae8-fa4e-4729-8f50-6750e853d6b3",
   "metadata": {},
   "outputs": [],
   "source": [
    "total_jets = datCalc([hsc, three, five, seven, nine], quant=\"totalJets\", events=10000)"
   ]
  },
  {
   "cell_type": "markdown",
   "id": "81be5ac5-c89f-407e-b312-d8e57b3f5cd6",
   "metadata": {},
   "source": [
    "## Plotting data"
   ]
  },
  {
   "cell_type": "code",
   "execution_count": null,
   "id": "faefef91-9bb1-416e-ac3c-f16c4afb0d10",
   "metadata": {},
   "outputs": [],
   "source": [
    "def resPlotter(data, nbins=100, quant=\"\"):\n",
    "    plt.figure(figsize=(10,6))\n",
    "    \n",
    "    if quant== \"dist\":\n",
    "        binning = np.linspace(0, 0.4, nbins)\n",
    "        plt.xlabel(\"Distance from gen jet\")\n",
    "        mplhep.cms.label(label=\"Preliminary. Distance between gen jet and L1 jets\", data=True, rlabel='14 TeV, 200 PU', fontsize=10)\n",
    "    elif quant== \"pt\":\n",
    "        binning = np.linspace(-1, 1, nbins)\n",
    "        plt.xlabel(\"pT resolution\")\n",
    "        mplhep.cms.label(label=\"Preliminary. pT resolution between gen jet and L1 jets\", data=True, rlabel='14 TeV, 200 PU', fontsize=10)\n",
    "    elif quant == \"eta_dist\":\n",
    "        binning = np.linspace(-0.4, 0.4, nbins)\n",
    "        plt.xlabel(\"Δη\\Delta\\eta\")\n",
    "        mplhep.cms.label(label=\"Preliminary. η\\eta distance between gen jet and L1 jets\", data=True, rlabel='14 TeV, 200 PU', fontsize=10)\n",
    "    elif quant == \"phi_dist\":\n",
    "        binning = np.linspace(-0.4, 0.4, nbins)\n",
    "        plt.xlabel(\"Δϕ\\Delta\\phi\")\n",
    "        mplhep.cms.label(label=\"Preliminary. ϕ\\phi distance between gen jet and L1 jets\", data=True, rlabel='14 TeV, 200 PU', fontsize=10)\n",
    "    else:\n",
    "        raise Exception(\"Invalid quantity!\")\n",
    "        \n",
    "    for key in data:\n",
    "        if key == \"sc\":\n",
    "            label = \"SC\"\n",
    "        elif key == \"hist\":\n",
    "            label = \"Hist\"\n",
    "        elif key == \"hsc\":\n",
    "            label = \"HSC\"\n",
    "        plt.hist(\n",
    "            data[key],\n",
    "            histtype=\"step\",\n",
    "            bins = binning,\n",
    "            #label=label,\n",
    "            density=True\n",
    "        )\n",
    "\n",
    "    #mplhep.cms.label(label=\"Distance between gen jet and L1 jets\".format(quant), data=True, rlabel='14 TeV, 200 PU', fontsize=10)\n",
    "    #plt.title(\"pT resolution between gen jet and L1 jets\".format(quant))\n",
    "    #plt.xlabel(\"Distance from gen jet\".format(quant))\n",
    "    plt.legend()\n",
    "    plt.grid()\n",
    "    plt.show()\n",
    "    \n",
    "    return None"
   ]
  },
  {
   "cell_type": "code",
   "execution_count": null,
   "id": "fa569352-f363-43c1-9c0f-8e81d24ca4f4",
   "metadata": {},
   "outputs": [],
   "source": [
    "resPlotter(pts, nbins=100, quant=\"pt\")"
   ]
  },
  {
   "cell_type": "code",
   "execution_count": null,
   "id": "a87f642e-e7dc-49c5-ad09-c8495d692e19",
   "metadata": {},
   "outputs": [],
   "source": [
    "resPlotter(dists, nbins=100, quant=\"dist\")"
   ]
  },
  {
   "cell_type": "code",
   "execution_count": null,
   "id": "72432359-b853-4fec-afdc-c2e0cd19b768",
   "metadata": {},
   "outputs": [],
   "source": [
    "resPlotter(eta_dist_dat, nbins=100, quant=\"eta_dist\")"
   ]
  },
  {
   "cell_type": "code",
   "execution_count": null,
   "id": "27c425b2-fa33-48f7-bd52-4c3d046f8eea",
   "metadata": {},
   "outputs": [],
   "source": [
    "resPlotter(phi_dist_dat, nbins=100, quant=\"phi_dist\")"
   ]
  },
  {
   "cell_type": "code",
   "execution_count": null,
   "id": "86c54ef1-7b5c-4c52-ac4a-776719915db9",
   "metadata": {},
   "outputs": [],
   "source": [
    "unp = {\"1x1seed\" if k == \"Histo-seeded cone\" else k:v for k,v in unpairedNums.items()}"
   ]
  },
  {
   "cell_type": "code",
   "execution_count": null,
   "id": "76eb85a6-bc15-4487-a604-7c9251668cea",
   "metadata": {},
   "outputs": [],
   "source": [
    "plt.bar(\n",
    "    x = list(unp.keys()),\n",
    "    height = (np.array( list(unp.values()) ) / np.array( list(total_jets.values()) ))*100,\n",
    ")\n",
    "plt.title(\"Percentage of unfound gen jets\")\n",
    "plt.grid()\n",
    "#plt.ylim([30, 40])"
   ]
  },
  {
   "cell_type": "markdown",
   "id": "0631e0d6-a4ee-4b1f-95c2-fc6511964d13",
   "metadata": {},
   "source": [
    "## Jet seed studies"
   ]
  },
  {
   "cell_type": "code",
   "execution_count": null,
   "id": "0f9ad25a-e47b-482f-bb81-a456db1ca8b6",
   "metadata": {},
   "outputs": [],
   "source": [
    "ev=0\n",
    "#hist[\"pt\"][ev]\n",
    "hist[\"eta\"]"
   ]
  },
  {
   "cell_type": "code",
   "execution_count": null,
   "id": "e3dfe166-a0e2-4023-b8c5-d4c964e2db88",
   "metadata": {},
   "outputs": [],
   "source": [
    "cands[\"eta\"][ev]"
   ]
  },
  {
   "cell_type": "code",
   "execution_count": null,
   "id": "d0a1958c-18dc-43b0-8c20-49ba2b67d513",
   "metadata": {},
   "outputs": [],
   "source": [
    "pairer(gen=gen, jet=sc, ev=0)"
   ]
  },
  {
   "cell_type": "code",
   "execution_count": null,
   "id": "913da2ac-7126-41a2-95bc-80d29bb2bf44",
   "metadata": {},
   "outputs": [],
   "source": [
    "def highestPtCand(jetAlgo, event):\n",
    "    highestPtCoords = (jetAlgo[\"eta\"][event][0], jetAlgo[\"phi\"][event][0])\n",
    "    "
   ]
  }
 ],
 "metadata": {
  "kernelspec": {
   "display_name": "Python 3 (ipykernel)",
   "language": "python",
   "name": "python3"
  },
  "language_info": {
   "codemirror_mode": {
    "name": "ipython",
    "version": 3
   },
   "file_extension": ".py",
   "mimetype": "text/x-python",
   "name": "python",
   "nbconvert_exporter": "python",
   "pygments_lexer": "ipython3",
   "version": "3.6.8"
  }
 },
 "nbformat": 4,
 "nbformat_minor": 5
}
